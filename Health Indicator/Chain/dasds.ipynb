{
 "metadata": {
  "language_info": {
   "codemirror_mode": {
    "name": "ipython",
    "version": 3
   },
   "file_extension": ".py",
   "mimetype": "text/x-python",
   "name": "python",
   "nbconvert_exporter": "python",
   "pygments_lexer": "ipython3",
   "version": "3.7.7-final"
  },
  "orig_nbformat": 2,
  "kernelspec": {
   "name": "python_defaultSpec_1597891387059",
   "display_name": "Python 3.7.7 64-bit"
  }
 },
 "nbformat": 4,
 "nbformat_minor": 2,
 "cells": [
  {
   "cell_type": "code",
   "execution_count": 2,
   "metadata": {},
   "outputs": [],
   "source": [
    "   import json\n",
    "from collections import OrderedDict\n",
    "import paho.mqtt.client as mqtt"
   ]
  },
  {
   "cell_type": "code",
   "execution_count": 11,
   "metadata": {},
   "outputs": [],
   "source": [
    "broker_address=\"192.168.0.10\"\n",
    "client = mqtt.Client(\"Gyeyang0041341\")\n",
    "client.connect(broker_address)\n",
    "\n",
    "# json 데이터 생성\n",
    "clt_data = OrderedDict()\n",
    "clt_data['Type'] = \"Step\"\n",
    "clt_data['Name'] = \"계양역 1호기\"\n",
    "clt_data['Content'] = \"Sin\"\n",
    "clt_data['Time'] = \"\"\n",
    "clt_data['Comment'] = \"계양역 1호기 신율 계산 결과 수신\"\n",
    "clt_data['Data'] = 13154.164"
   ]
  },
  {
   "cell_type": "code",
   "execution_count": 12,
   "metadata": {},
   "outputs": [
    {
     "output_type": "execute_result",
     "data": {
      "text/plain": "<paho.mqtt.client.MQTTMessageInfo at 0x1a72658cd68>"
     },
     "metadata": {},
     "execution_count": 12
    }
   ],
   "source": [
    "\n",
    "# json을 스트링으로 바꾼다.\n",
    "jsonString = json.dumps(clt_data)\n",
    "\n",
    "# json 데이터 전송\n",
    "client.publish(\"Mobius/Gyeyang\", jsonString.encode())"
   ]
  },
  {
   "cell_type": "code",
   "execution_count": null,
   "metadata": {},
   "outputs": [],
   "source": []
  }
 ]
}